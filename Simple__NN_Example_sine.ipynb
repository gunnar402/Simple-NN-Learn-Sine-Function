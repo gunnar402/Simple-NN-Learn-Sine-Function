{
  "nbformat": 4,
  "nbformat_minor": 0,
  "metadata": {
    "colab": {
      "name": "Simple__NN_Example_sine.ipynb",
      "provenance": [],
      "collapsed_sections": [],
      "authorship_tag": "ABX9TyOAelue4tEHx99xpaE5AVsb",
      "include_colab_link": true
    },
    "kernelspec": {
      "name": "python3",
      "display_name": "Python 3"
    }
  },
  "cells": [
    {
      "cell_type": "markdown",
      "metadata": {
        "id": "view-in-github",
        "colab_type": "text"
      },
      "source": [
        "<a href=\"https://colab.research.google.com/github/gunnar402/Simple-NN-Learn-Sine-Function/blob/main/Simple__NN_Example_sine.ipynb\" target=\"_parent\"><img src=\"https://colab.research.google.com/assets/colab-badge.svg\" alt=\"Open In Colab\"/></a>"
      ]
    },
    {
      "cell_type": "code",
      "metadata": {
        "id": "eiYtn5jmMTCM",
        "colab": {
          "base_uri": "https://localhost:8080/",
          "height": 1000
        },
        "outputId": "fd35a88b-b215-419e-95c8-fb585b3d1c7b"
      },
      "source": [
        "# Importing libraries (PyTorch)\n",
        "import torch\n",
        "from torch.autograd import Variable\n",
        "import torch.nn as nn\n",
        "import torch.nn.functional as F\n",
        "\n",
        "# Defining NN (multi-layer w/ 1 input, 2 hidden, 1 output)\n",
        "class Net(nn.Module):\n",
        "  def __init__(self):\n",
        "    super(Net, self).__init__()\n",
        "    self.fc1 = nn.Linear(1, 7)\n",
        "    self.fc2 = nn.Linear(7, 7)\n",
        "    self.fc3 = nn.Linear(7, 7)\n",
        "    self.fc4 = nn.Linear(7, 7)\n",
        "    self.fc5 = nn.Linear(7, 1)\n",
        "  \n",
        "  def forward(self, x):\n",
        "    x = F.relu(self.fc1(x))\n",
        "    x = F.relu(self.fc2(x))\n",
        "    x = F.relu(self.fc3(x))\n",
        "    x = F.relu(self.fc4(x))\n",
        "    x = self.fc5(x)\n",
        "    return x\n",
        "\n",
        "net = Net()\n",
        "print('Net')\n",
        "print(net)\n",
        "\n",
        "#print()\n",
        "#print('Initial, Untrained Net Parameters (node weight, node bias)')\n",
        "#print(list(net.parameters()))\n",
        "\n",
        "# Create Random Number w/ PyTorch (tensor w 1 dimension)\n",
        "import random as rd\n",
        "import math as ma\n",
        "test_sine_x_untrained = []\n",
        "test_sine_y_untrained = []\n",
        "for i in range(500):\n",
        "  R_in = rd.randint(0, 359)\n",
        "  test_sine_x_untrained.append(R_in)\n",
        "  R_out_untrained = net(Variable(torch.Tensor([[[R_in]]])))\n",
        "  test_sine_y_untrained.append(R_out_untrained)\n",
        "\n",
        "input = Variable(torch.randn(1, 1, 1))\n",
        "#print()\n",
        "#print('Untrained NN Input')\n",
        "#print(input)\n",
        "\n",
        "net.zero_grad()\n",
        "#print('Untrained NN Output')\n",
        "out = net(input)\n",
        "\n",
        "#print(out)\n",
        "#print()\n",
        "\n",
        "# Defining Loss Function (Least Squares)\n",
        "import torch.optim as optim\n",
        "optimizer = optim.SGD(net.parameters(), lr = 0.001, momentum = 0.4)\n",
        "# Means square error\n",
        "criterion = nn.MSELoss()\n",
        "\n",
        "\n",
        "# Define Training Data Set\n",
        "\n",
        "#data = [(1, 1), (2, 4), (3, 9), (4, 16), (5, 25), (6, 36)]\n",
        "\n",
        "# Angles and Sine\n",
        "#import random as rd\n",
        "#import math as ma\n",
        "data = []\n",
        "for j in range(1000):\n",
        "  angle = rd.randint(0, 359)\n",
        "  angle_rad = ma.radians(angle)\n",
        "  sine = ma.sin(angle_rad)\n",
        "  arr = (angle, sine)\n",
        "  data.append(arr) \n",
        "\n",
        "#print(data)\n",
        "#print()\n",
        "\n",
        "# Network training\n",
        "e_loss = []\n",
        "for epoch in range(100):\n",
        "  for i, data2 in enumerate(data):\n",
        "    X, Y = iter(data2)\n",
        "    X, Y = Variable(torch.FloatTensor([X]), requires_grad = True), Variable(torch.FloatTensor([Y]), requires_grad = False)\n",
        "    optimizer.zero_grad()\n",
        "    y_pred = net(X)\n",
        "    loss = criterion(y_pred, Y)\n",
        "    loss.backward()\n",
        "    optimizer.step()\n",
        "  if (epoch % 10 == 0.0):\n",
        "     e_loss.append(loss)\n",
        "     print(\"Epoch {} - loss: {}\".format(epoch, loss))\n",
        "\n",
        "#print()\n",
        "#print('Final, Trained Net Parameters (node weight, node bias)')\n",
        "#print(list(net.parameters()))   \n",
        "\n",
        "\n",
        "# Network Testing\n",
        "test_sine_x = []\n",
        "test_sine_y = []\n",
        "for i in range(500):\n",
        "  R_in = rd.randint(0, 359)\n",
        "  test_sine_x.append(R_in)\n",
        "  R_out = net(Variable(torch.Tensor([[[R_in]]])))\n",
        "  test_sine_y.append(R_out)\n",
        "\n",
        "\n",
        "#print()\n",
        "#print('Prediction')\n",
        "#R_in = 45\n",
        "#print('1st Test Input')\n",
        "#print(R_in)\n",
        "#print('Predicted Out')\n",
        "#print(net(Variable(torch.Tensor([[[R_in]]]))))\n",
        "\n",
        "#print()\n",
        "#print('Prediction 2')\n",
        "#R_in_2 = 30\n",
        "#print('2nd Test Input')\n",
        "#print(R_in_2)\n",
        "#print('Predicted Out')\n",
        "#print(net(Variable(torch.Tensor([[[R_in_2]]]))))\n",
        "\n",
        "# Plotting\n",
        "import matplotlib.pyplot as plt \n",
        "\n",
        "# Loss \n",
        "plt.plot(e_loss)\n",
        "plt.title('Loss')\n",
        "plt.show()\n",
        "\n",
        "# Test Data Untrained\n",
        "plt.plot(test_sine_x_untrained, test_sine_y_untrained, 'ro')\n",
        "plt.title('Test - Untrained Network')\n",
        "plt.show()\n",
        "\n",
        "# Test Data Trained\n",
        "plt.plot(test_sine_x, test_sine_y, 'ro')\n",
        "plt.title('Test - Trained Network')\n",
        "plt.show()\n"
      ],
      "execution_count": null,
      "outputs": [
        {
          "output_type": "stream",
          "text": [
            "Net\n",
            "Net(\n",
            "  (fc1): Linear(in_features=1, out_features=7, bias=True)\n",
            "  (fc2): Linear(in_features=7, out_features=7, bias=True)\n",
            "  (fc3): Linear(in_features=7, out_features=7, bias=True)\n",
            "  (fc4): Linear(in_features=7, out_features=7, bias=True)\n",
            "  (fc5): Linear(in_features=7, out_features=1, bias=True)\n",
            ")\n",
            "Epoch 0 - loss: 0.028465716168284416\n",
            "Epoch 10 - loss: 0.0004935913602821529\n",
            "Epoch 20 - loss: 0.012183045968413353\n",
            "Epoch 30 - loss: 0.01996261440217495\n",
            "Epoch 40 - loss: 0.015471049584448338\n",
            "Epoch 50 - loss: 0.01014168281108141\n",
            "Epoch 60 - loss: 0.005527789238840342\n",
            "Epoch 70 - loss: 0.0025244150310754776\n",
            "Epoch 80 - loss: 0.001074367668479681\n",
            "Epoch 90 - loss: 0.0003974593710154295\n"
          ],
          "name": "stdout"
        },
        {
          "output_type": "display_data",
          "data": {
            "image/png": "[encoded data removed]",
            "text/plain": [
              "<Figure size 432x288 with 1 Axes>"
            ]
          },
          "metadata": {
            "tags": [],
            "needs_background": "light"
          }
        },
        {
          "output_type": "display_data",
          "data": {
            "image/png": "[encoded data removed]",
            "text/plain": [
              "<Figure size 432x288 with 1 Axes>"
            ]
          },
          "metadata": {
            "tags": [],
            "needs_background": "light"
          }
        },
        {
          "output_type": "display_data",
          "data": {
            "image/png": "[encoded data removed]",
            "text/plain": [
              "<Figure size 432x288 with 1 Axes>"
            ]
          },
          "metadata": {
            "tags": [],
            "needs_background": "light"
          }
        }
      ]
    }
  ]
}